{
 "cells": [
  {
   "cell_type": "code",
   "execution_count": 101,
   "metadata": {},
   "outputs": [],
   "source": [
    "%matplotlib inline\n",
    "import numpy as np\n",
    "import math\n",
    "import matplotlib.pyplot as plt"
   ]
  },
  {
   "cell_type": "code",
   "execution_count": 2,
   "metadata": {},
   "outputs": [
    {
     "data": {
      "text/plain": [
       "0.2864269828361933"
      ]
     },
     "execution_count": 2,
     "metadata": {},
     "output_type": "execute_result"
    }
   ],
   "source": [
    "np.random.uniform(0,1)"
   ]
  },
  {
   "cell_type": "code",
   "execution_count": 3,
   "metadata": {},
   "outputs": [
    {
     "name": "stdout",
     "output_type": "stream",
     "text": [
      "бросьте монетку \n",
      "Решка\n",
      "бросьте монетку\n",
      "Решка\n",
      "бросьте монетку\n",
      "Решка\n",
      "бросьте монетку\n",
      "Орел\n",
      "бросьте монетку\n",
      "Орел\n"
     ]
    }
   ],
   "source": [
    "for i in range(0,5):\n",
    "    a = input(\"бросьте монетку\")\n",
    "    x = np.random.uniform(0,1)\n",
    "    if x <=0.5:\n",
    "        print(\"Орел\")\n",
    "    else:\n",
    "        print(\"Решка\")"
   ]
  },
  {
   "cell_type": "markdown",
   "metadata": {},
   "source": [
    "1. Напишите код, моделирующий выпадение поля в рулетке (с учетом поля зеро)."
   ]
  },
  {
   "cell_type": "code",
   "execution_count": 5,
   "metadata": {},
   "outputs": [
    {
     "name": "stdout",
     "output_type": "stream",
     "text": [
      "bets are made, no more bets \n",
      "0\n",
      "bets are made, no more bets\n",
      "4\n",
      "bets are made, no more bets\n",
      "20\n",
      "bets are made, no more bets\n",
      "15\n",
      "bets are made, no more bets\n",
      "12\n",
      "bets are made, no more bets\n",
      "16\n",
      "bets are made, no more bets\n",
      "2\n",
      "bets are made, no more bets\n",
      "7\n",
      "bets are made, no more bets\n",
      "17\n",
      "bets are made, no more bets\n",
      "31\n"
     ]
    }
   ],
   "source": [
    "for i in range(0,10):\n",
    "    a = input(\"bets are made, no more bets\")\n",
    "    x = np.random.uniform(0,37)\n",
    "    print(int(x))"
   ]
  },
  {
   "cell_type": "markdown",
   "metadata": {},
   "source": [
    "2. \n",
    "Напишите код, проверяющий любую из теорем сложения или умножения вероятности на примере рулетки или подбрасывания монетки.\n",
    "сложение вероятностей (для несовместных событий): P(A+B) = P(A) + P(B) P(A) + P(B) = 1 (для противоположных событий)\n",
    "произведение вероятностей независимые события P(AB) = P(A)*P(B) зависимые события P(AB) = P(A) * P(B/A)"
   ]
  },
  {
   "cell_type": "code",
   "execution_count": 19,
   "metadata": {},
   "outputs": [
    {
     "name": "stdout",
     "output_type": "stream",
     "text": [
      "сумма всех несовместных событий:  1000\n",
      "Вероятность одно события 1/36*100%: 2.78 \n",
      "событие при котором выпадает число: 0 произошло 2.40 раз.\n",
      "событие при котором выпадает число: 1 произошло 3.00 раз.\n",
      "событие при котором выпадает число: 2 произошло 3.50 раз.\n",
      "событие при котором выпадает число: 3 произошло 2.30 раз.\n",
      "событие при котором выпадает число: 4 произошло 2.50 раз.\n",
      "событие при котором выпадает число: 5 произошло 3.40 раз.\n",
      "событие при котором выпадает число: 6 произошло 3.40 раз.\n",
      "событие при котором выпадает число: 7 произошло 2.60 раз.\n",
      "событие при котором выпадает число: 8 произошло 2.50 раз.\n",
      "событие при котором выпадает число: 9 произошло 2.10 раз.\n",
      "событие при котором выпадает число: 10 произошло 2.40 раз.\n",
      "событие при котором выпадает число: 11 произошло 4.20 раз.\n",
      "событие при котором выпадает число: 12 произошло 1.90 раз.\n",
      "событие при котором выпадает число: 13 произошло 2.20 раз.\n",
      "событие при котором выпадает число: 14 произошло 2.40 раз.\n",
      "событие при котором выпадает число: 15 произошло 2.30 раз.\n",
      "событие при котором выпадает число: 16 произошло 2.50 раз.\n",
      "событие при котором выпадает число: 17 произошло 2.10 раз.\n",
      "событие при котором выпадает число: 18 произошло 2.80 раз.\n",
      "событие при котором выпадает число: 19 произошло 2.70 раз.\n",
      "событие при котором выпадает число: 20 произошло 2.60 раз.\n",
      "событие при котором выпадает число: 21 произошло 2.90 раз.\n",
      "событие при котором выпадает число: 22 произошло 2.20 раз.\n",
      "событие при котором выпадает число: 23 произошло 2.20 раз.\n",
      "событие при котором выпадает число: 24 произошло 3.30 раз.\n",
      "событие при котором выпадает число: 25 произошло 2.90 раз.\n",
      "событие при котором выпадает число: 26 произошло 2.40 раз.\n",
      "событие при котором выпадает число: 27 произошло 2.20 раз.\n",
      "событие при котором выпадает число: 28 произошло 2.60 раз.\n",
      "событие при котором выпадает число: 29 произошло 2.80 раз.\n",
      "событие при котором выпадает число: 30 произошло 3.40 раз.\n",
      "событие при котором выпадает число: 31 произошло 2.50 раз.\n",
      "событие при котором выпадает число: 32 произошло 3.00 раз.\n",
      "событие при котором выпадает число: 33 произошло 3.50 раз.\n",
      "событие при котором выпадает число: 34 произошло 3.50 раз.\n",
      "событие при котором выпадает число: 35 произошло 2.30 раз.\n",
      "событие при котором выпадает число: 36 произошло 2.50 раз.\n",
      "Сумма всех вероятностей: 100.00 \n"
     ]
    }
   ],
   "source": [
    "#  рулетка\n",
    "tests=1000\n",
    "g=[]\n",
    "for i in range(tests):\n",
    "    x = np.random.uniform(0,37)\n",
    "    g.append(int(x))\n",
    "\n",
    "unique,counts = np.unique(g,return_counts=True)\n",
    "print(\"сумма всех несовместных событий: \", sum(counts))\n",
    "print(f\"Вероятность одно события 1/36*100%: {1/36*100:.2f} \")\n",
    "\n",
    "p=0\n",
    "for i in range(len(unique)):\n",
    "    p = p + counts[i]/tests\n",
    "    print(f\"событие при котором выпадает число: {unique[i]} произошло {counts[i]/tests*100:.2f} раз.\")\n",
    "    \n",
    "print(f\"Сумма всех вероятностей: {p*100:.2f} \")"
   ]
  },
  {
   "cell_type": "code",
   "execution_count": 71,
   "metadata": {},
   "outputs": [
    {
     "name": "stdout",
     "output_type": "stream",
     "text": [
      "['[0. 0.]' '[0. 1.]' '[1. 0.]' '[1. 1.]']\n",
      "[257 265 254 224]\n",
      "Вероятность событий - две монетки покажут решка: 0.25 или 0.224\n",
      "Вероятность событий - две монетки не упадут одинаково: 0.5 или 0.519\n"
     ]
    }
   ],
   "source": [
    "# две монеты 0-орел, 1-решка\n",
    "b=[]\n",
    "tests =1000\n",
    "for i in range(tests):\n",
    "    m = str(np.around(np.random.rand(2)))\n",
    "    b.append(m)\n",
    "unique,counts = np.unique(b,return_counts=True)\n",
    "# print(b)\n",
    "print(unique)\n",
    "print(counts)\n",
    "\n",
    "\n",
    "print(f\"Вероятность событий - две монетки покажут решка: {0.5*0.5} или {counts[3]/tests}\")\n",
    "print(f\"Вероятность событий - две монетки не упадут одинаково: {0.5*0.5+0.5*0.5} или {counts[1]/tests + counts[2]/tests}\")"
   ]
  },
  {
   "cell_type": "markdown",
   "metadata": {},
   "source": [
    "\n",
    "Сгенерируйте десять выборок случайных чисел х0, …, х9.\n",
    "и постройте гистограмму распределения случайной суммы х0+х1+ …+ х9."
   ]
  },
  {
   "cell_type": "code",
   "execution_count": 95,
   "metadata": {},
   "outputs": [
    {
     "data": {
      "image/png": "[encoded data removed]",
      "text/plain": [
       "<Figure size 432x288 with 1 Axes>"
      ]
     },
     "metadata": {
      "needs_background": "light"
     },
     "output_type": "display_data"
    }
   ],
   "source": [
    "ps=[]\n",
    "tests =10000\n",
    "for i in range(tests):\n",
    "    x = np.random.rand(10)\n",
    "#     print(x)\n",
    "#     print(sum(x))\n",
    "    ps.append(sum(x))\n",
    "plt.hist(ps)\n",
    "plt.show()"
   ]
  },
  {
   "cell_type": "markdown",
   "metadata": {},
   "source": [
    "3.\n",
    "1) Дополните код Монте-Карло последовательности независимых испытаний расчетом соответствующих вероятностей (через биномиальное распределение) и сравните результаты.\n"
   ]
  },
  {
   "cell_type": "code",
   "execution_count": 286,
   "metadata": {},
   "outputs": [
    {
     "name": "stdout",
     "output_type": "stream",
     "text": [
      "согласно форуле Бернулле, биноминальное распределене вероятности P_k: 0.3750 C: 6.0000 p: 0.5000 q: 0.5000 \n",
      "по результатам испытаний вероятность k=2 успешный событий при n=4 испытаний: 0.3764\n"
     ]
    }
   ],
   "source": [
    "t=10000\n",
    "k,n = 2, 4\n",
    "C = math.factorial(n)/(math.factorial(k)*math.factorial(n-k))\n",
    "p = 1/2\n",
    "q = 1-p\n",
    "P_k = C * (p ** k) * (q ** (n-k)) \n",
    "\n",
    "s=0\n",
    "for i in range(t):\n",
    "    a = np.random.randint(0,2,n)\n",
    "#     print(a)\n",
    "    if sum(a) == k:\n",
    "        s=s+1\n",
    "\n",
    "\n",
    "print(f\"согласно форуле Бернулле, биноминальное распределене вероятности P_k: {P_k:.4f} C: {C:.4f} p: {p:.4f} q: {q:.4f} \")\n",
    "print(f\"по результатам испытаний вероятность k={k} успешный событий при n={n} испытаний: {s/t}\")"
   ]
  },
  {
   "cell_type": "markdown",
   "metadata": {},
   "source": [
    "2) Повторите расчеты биномиальных коэффициентов и вероятностей k успехов в последовательности из n независимых испытаний, взяв другие значения n и k."
   ]
  },
  {
   "cell_type": "code",
   "execution_count": 330,
   "metadata": {},
   "outputs": [
    {
     "data": {
      "text/plain": [
       "Text(0, 0.5, 'Probability')"
      ]
     },
     "execution_count": 330,
     "metadata": {},
     "output_type": "execute_result"
    },
    {
     "data": {
      "image/png": "[encoded data removed]",
      "text/plain": [
       "<Figure size 432x288 with 1 Axes>"
      ]
     },
     "metadata": {
      "needs_background": "light"
     },
     "output_type": "display_data"
    }
   ],
   "source": [
    "t=1000\n",
    "n = 15\n",
    "k =[]\n",
    "p = 1/2\n",
    "q = 1-p\n",
    "P_k_=[]\n",
    "for i in range(n):\n",
    "    C = math.factorial(n)/(math.factorial(i)*math.factorial(n-i))\n",
    "    P_k = C * (p ** i) * (q ** (n-i)) \n",
    "    P_k_.append(P_k)\n",
    "    k.append(i)\n",
    "#     print(P_k_)\n",
    "plt.plot(k,P_k_)\n",
    "\n",
    "pt=[]\n",
    "\n",
    "for j in k:\n",
    "    s=0\n",
    "    for i in range(t):\n",
    "        a = np.random.randint(0,2,n)\n",
    "#     print(a)\n",
    "        if sum(a) == j:\n",
    "            s=s+1\n",
    "    pt.append(s/t)\n",
    "\n",
    "plt.plot(k,pt)\n",
    "plt.grid(True)\n",
    "plt.xlabel(\"k\")\n",
    "plt.ylabel(\"Probability\")"
   ]
  },
  {
   "cell_type": "markdown",
   "metadata": {},
   "source": [
    "4. Из урока по комбинаторике повторите расчеты, сгенерировав возможные варианты перестановок для других значений n и k"
   ]
  },
  {
   "cell_type": "code",
   "execution_count": 333,
   "metadata": {},
   "outputs": [],
   "source": [
    "import itertools as it"
   ]
  },
  {
   "cell_type": "code",
   "execution_count": 478,
   "metadata": {},
   "outputs": [
    {
     "name": "stdout",
     "output_type": "stream",
     "text": [
      "256\n",
      "256\n"
     ]
    }
   ],
   "source": [
    "# исходы p3/2 = 3**3\n",
    "q = 0\n",
    "for p in it.product(\"0123\", repeat=4):\n",
    "    q =q+1\n",
    "#     print(\" \".join(p))\n",
    "print(q)\n",
    "print(4**4)"
   ]
  },
  {
   "cell_type": "code",
   "execution_count": 472,
   "metadata": {},
   "outputs": [
    {
     "name": "stdout",
     "output_type": "stream",
     "text": [
      "720\n"
     ]
    }
   ],
   "source": [
    "# permutation Amn=Cmn*Pm=n!/m!(n-m)! * m!\n",
    "q = 0\n",
    "for p in it.permutations(\"0123456789\", 3):\n",
    "    q =q+1\n",
    "#     print(\" \".join(p))\n",
    "print(q)\n"
   ]
  },
  {
   "cell_type": "code",
   "execution_count": 476,
   "metadata": {},
   "outputs": [
    {
     "name": "stdout",
     "output_type": "stream",
     "text": [
      "0 1\n",
      "0 2\n",
      "0 3\n",
      "1 2\n",
      "1 3\n",
      "2 3\n",
      "6\n",
      "2\n"
     ]
    }
   ],
   "source": [
    "# комбинация Cmn=n!/m!(n-m)!\n",
    "q = 0\n",
    "for p in it.combinations(\"0123\", 2):\n",
    "    q =q+1\n",
    "    print(\" \".join(p))\n",
    "print(q)\n",
    "\n",
    "print(math.factorial(2))"
   ]
  },
  {
   "cell_type": "code",
   "execution_count": 477,
   "metadata": {},
   "outputs": [
    {
     "name": "stdout",
     "output_type": "stream",
     "text": [
      "6.0\n"
     ]
    }
   ],
   "source": [
    "n=4\n",
    "k=2\n",
    "C = math.factorial(n)/(math.factorial(k)*math.factorial(n-k))\n",
    "print(C)"
   ]
  },
  {
   "cell_type": "markdown",
   "metadata": {},
   "source": [
    "5. Дополните код расчетом коэффициента корреляции x и y по формуле"
   ]
  },
  {
   "cell_type": "code",
   "execution_count": 583,
   "metadata": {},
   "outputs": [
    {
     "name": "stdout",
     "output_type": "stream",
     "text": [
      "параметры прямой a=0.2919, b=0.3499\n",
      "mean x0.5157 mean y 0.5005\n",
      "корреляция R:0.5407\n",
      "[[1.         0.54073558]\n",
      " [0.54073558 1.        ]]\n"
     ]
    },
    {
     "data": {
      "image/png": "[encoded data removed]",
      "text/plain": [
       "<Figure size 432x288 with 1 Axes>"
      ]
     },
     "metadata": {
      "needs_background": "light"
     },
     "output_type": "display_data"
    }
   ],
   "source": [
    "n = 100\n",
    "r = 0.4\n",
    "\n",
    "x = np.random.rand(n)\n",
    "# y=x\n",
    "y = x*r + (1-r)*np.random.rand(n)\n",
    "plt.plot(x,y,\"o\")\n",
    "\n",
    "a = (np.sum(x)*np.sum(x) - n*np.sum(x*y))/(np.sum(x)**2 - n*np.sum(x**2))\n",
    "b = (np.sum(y)-a*np.sum(x))/n\n",
    "\n",
    "print(f\"параметры прямой a={a:.4f}, b={b:.4f}\")\n",
    "\n",
    "y2 = x*a +b\n",
    "\n",
    "plt.plot(x,y2)\n",
    "\n",
    "c = np.corrcoef(x,y)\n",
    "\n",
    "xm=np.mean(x)\n",
    "ym=np.mean(y)\n",
    "print(f\"mean x{xm:0.4f} mean y {ym:.4f}\")\n",
    "R = np.sum((x-xm)*(y-ym))/((np.sum((x-xm)**2))*(np.sum((y-ym)**2)))**0.5\n",
    "print(f\"корреляция R:{R:.4f}\")\n",
    "\n",
    "\n",
    "print(c)\n",
    "plt.grid(True)\n",
    "plt.gca().set_aspect('equal')"
   ]
  }
 ],
 "metadata": {
  "kernelspec": {
   "display_name": "Python 3",
   "language": "python",
   "name": "python3"
  },
  "language_info": {
   "codemirror_mode": {
    "name": "ipython",
    "version": 3
   },
   "file_extension": ".py",
   "mimetype": "text/x-python",
   "name": "python",
   "nbconvert_exporter": "python",
   "pygments_lexer": "ipython3",
   "version": "3.7.3"
  }
 },
 "nbformat": 4,
 "nbformat_minor": 2
}
