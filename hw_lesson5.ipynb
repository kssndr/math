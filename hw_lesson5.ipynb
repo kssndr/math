{
 "cells": [
  {
   "cell_type": "code",
   "execution_count": 2,
   "metadata": {},
   "outputs": [],
   "source": [
    "%matplotlib inline\n",
    "import numpy as np"
   ]
  },
  {
   "cell_type": "code",
   "execution_count": 3,
   "metadata": {},
   "outputs": [
    {
     "data": {
      "text/plain": [
       "0.0331545338602971"
      ]
     },
     "execution_count": 3,
     "metadata": {},
     "output_type": "execute_result"
    }
   ],
   "source": [
    "np.random.uniform(0,1)"
   ]
  },
  {
   "cell_type": "code",
   "execution_count": 4,
   "metadata": {},
   "outputs": [
    {
     "name": "stdout",
     "output_type": "stream",
     "text": [
      "бросьте монетку\n",
      "Орел\n",
      "бросьте монетку\n",
      "Орел\n",
      "бросьте монетку\n",
      "Решка\n",
      "бросьте монетку\n",
      "Орел\n",
      "бросьте монетку\n",
      "Решка\n"
     ]
    }
   ],
   "source": [
    "for i in range(0,5):\n",
    "    a = input(\"бросьте монетку\")\n",
    "    x = np.random.uniform(0,1)\n",
    "    if x <=0.5:\n",
    "        print(\"Орел\")\n",
    "    else:\n",
    "        print(\"Решка\")"
   ]
  },
  {
   "cell_type": "markdown",
   "metadata": {},
   "source": [
    "1. Напишите код, моделирующий выпадение поля в рулетке (с учетом поля зеро)."
   ]
  },
  {
   "cell_type": "code",
   "execution_count": 16,
   "metadata": {},
   "outputs": [
    {
     "name": "stdout",
     "output_type": "stream",
     "text": [
      "[ 0  0  0  0  1  1  1  1  2  2  2  2  2  2  4  4  4  5  5  5  6  6  6  6\n",
      "  7  8  9  9 10 10 12 12 12 12 13 13 13 14 14 14 15 15 15 15 16 17 17 18\n",
      " 19 20 20 20 20 21 21 21 22 22 23 23 23 23 24 24 24 24 24 24 25 25 26 27\n",
      " 27 27 28 28 29 29 31 31 31 32 32 32 32 32 32 33 33 33 33 33 34 34 34 35\n",
      " 36 36 36 36]\n",
      "[ 0  1  2  4  5  6  7  8  9 10 12 13 14 15 16 17 18 19 20 21 22 23 24 25\n",
      " 26 27 28 29 31 32 33 34 35 36] [4 4 6 3 3 4 1 1 2 2 4 3 3 4 1 2 1 1 4 3 2 4 6 2 1 3 2 2 3 6 5 3 1 4]\n"
     ]
    }
   ],
   "source": [
    "xx=[]\n",
    "for i in range(0,100):\n",
    "#     a = input(\"bets are made, no more bets\")\n",
    "    x = np.random.uniform(0,37)\n",
    "    xx.append(int(x))\n",
    "print(np.sort(xx))\n",
    "unique,counts=np.unique(xx,return_counts=True)\n",
    "print(unique,counts)"
   ]
  },
  {
   "cell_type": "markdown",
   "metadata": {},
   "source": [
    "2. \n",
    "Напишите код, проверяющий любую из теорем сложения или умножения вероятности на примере рулетки или подбрасывания монетки.\n",
    "Сгенерируйте десять выборок случайных чисел х0, …, х9.\n",
    "и постройте гистограмму распределения случайной суммы х0+х1+ …+ х9."
   ]
  },
  {
   "cell_type": "code",
   "execution_count": null,
   "metadata": {},
   "outputs": [],
   "source": []
  }
 ],
 "metadata": {
  "kernelspec": {
   "display_name": "Python 3",
   "language": "python",
   "name": "python3"
  }
 },
 "nbformat": 4,
 "nbformat_minor": 2
}
