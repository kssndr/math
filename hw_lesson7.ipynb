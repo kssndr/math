{
 "cells": [
  {
   "cell_type": "code",
   "execution_count": 76,
   "metadata": {},
   "outputs": [],
   "source": [
    "%matplotlib inline\n",
    "import numpy as np\n",
    "import matplotlib.pyplot as plt"
   ]
  },
  {
   "cell_type": "code",
   "execution_count": 5,
   "metadata": {},
   "outputs": [
    {
     "data": {
      "text/plain": [
       "array([[1., 0., 0., 0., 0.],\n",
       "       [0., 1., 0., 0., 0.],\n",
       "       [0., 0., 1., 0., 0.],\n",
       "       [0., 0., 0., 1., 0.],\n",
       "       [0., 0., 0., 0., 1.]])"
      ]
     },
     "execution_count": 5,
     "metadata": {},
     "output_type": "execute_result"
    }
   ],
   "source": [
    "a = np.identity(5)\n",
    "a"
   ]
  },
  {
   "cell_type": "code",
   "execution_count": 13,
   "metadata": {},
   "outputs": [
    {
     "name": "stdout",
     "output_type": "stream",
     "text": [
      "[[1. 2. 3.]\n",
      " [2. 2. 1.]\n",
      " [4. 4. 2.]]\n",
      "(3, 3)\n",
      "2.0\n"
     ]
    }
   ],
   "source": [
    "b = np.array([[1,2,3], [2,2,1], [4,4,2]], float)\n",
    "print(b)\n",
    "print(b.shape)\n",
    "print(b[2,2])"
   ]
  },
  {
   "cell_type": "code",
   "execution_count": 22,
   "metadata": {},
   "outputs": [
    {
     "name": "stdout",
     "output_type": "stream",
     "text": [
      "[[ 3.  6.  9.]\n",
      " [ 6.  6.  3.]\n",
      " [12. 12.  6.]]\n"
     ]
    }
   ],
   "source": [
    "c = b*3\n",
    "print(c)"
   ]
  },
  {
   "cell_type": "code",
   "execution_count": 24,
   "metadata": {},
   "outputs": [
    {
     "data": {
      "text/plain": [
       "array([[1., 2., 4.],\n",
       "       [2., 2., 4.],\n",
       "       [3., 1., 2.]])"
      ]
     },
     "execution_count": 24,
     "metadata": {},
     "output_type": "execute_result"
    }
   ],
   "source": [
    "c = b.transpose()\n",
    "c"
   ]
  },
  {
   "cell_type": "markdown",
   "metadata": {},
   "source": [
    "print(c+b)\n",
    "print(b+c)\n",
    "print(np.dot(c,b))\n",
    "print(np.dot(b,c))"
   ]
  },
  {
   "cell_type": "markdown",
   "metadata": {},
   "source": [
    "Свойства сложения и умножения матриц"
   ]
  },
  {
   "cell_type": "code",
   "execution_count": 46,
   "metadata": {},
   "outputs": [
    {
     "name": "stdout",
     "output_type": "stream",
     "text": [
      "(k*l)*A = k*(l*A)\n",
      " [[0. 0. 0.]\n",
      " [0. 0. 0.]\n",
      " [0. 0. 0.]]\n",
      "k*(A + B)= k*A + k*B\n",
      " [[0. 0. 0.]\n",
      " [0. 0. 0.]\n",
      " [0. 0. 0.]]\n",
      "(k+l)*A = A*k + A*l\n",
      " [[0. 0. 0.]\n",
      " [0. 0. 0.]\n",
      " [0. 0. 0.]]\n",
      "(A*B)*C = A*(B*C)\n",
      " [[0. 0. 0.]\n",
      " [0. 0. 0.]\n",
      " [0. 0. 0.]]\n",
      "(A+B)*C = A*C+B*C\n",
      " [[0. 0. 0.]\n",
      " [0. 0. 0.]\n",
      " [0. 0. 0.]]\n",
      "A*(B+C) = A*B + A*C\n",
      " [[0. 0. 0.]\n",
      " [0. 0. 0.]\n",
      " [0. 0. 0.]]\n"
     ]
    }
   ],
   "source": [
    "# (k*l)*A = k*(l*A)\n",
    "# k*(A + B)= k*A + k*B\n",
    "# (k+l)*A = A*k + A*l\n",
    "# (A*B)*C = A*(B*C)\n",
    "# (A+B)*C = A*C + B*C\n",
    "# A*(B+C) = A*B + A*C\n",
    "\n",
    "A = np.array([[2,6,7],[6,3,1],[1,8,4]],float)\n",
    "B = np.array([[-1,4,9],[2,-3,10],[7,2,6]],float)\n",
    "C = np.array([[-2,1,3],[7,2,8],[1,-1,6]],float)\n",
    "k = 7\n",
    "l = -3\n",
    "print(\"(k*l)*A = k*(l*A)\\n\",(k*l)*A-k*(l*A))\n",
    "print(\"k*(A + B)= k*A + k*B\\n\",k*(A+B)-k*A-k*B)\n",
    "print(\"(k+l)*A = A*k + A*l\\n\",(k+l)*A-k*A-l*A)\n",
    "print(\"(A*B)*C = A*(B*C)\\n\",np.dot(np.dot(A,B),C)-np.dot(A,np.dot(B,C)))\n",
    "print(\"(A+B)*C = A*C+B*C\\n\",np.dot((A+B),C)-np.dot(A,C)-np.dot(B,C))\n",
    "print(\"A*(B+C) = A*B + A*C\\n\",np.dot(A,(B+C))-np.dot(A,B)-np.dot(A,C))"
   ]
  },
  {
   "cell_type": "code",
   "execution_count": 61,
   "metadata": {},
   "outputs": [
    {
     "name": "stdout",
     "output_type": "stream",
     "text": [
      "32\n",
      "32\n",
      "[ 4 10 18]\n",
      "[ 4 10 18]\n"
     ]
    }
   ],
   "source": [
    "v = np.array([1,2,3])\n",
    "# w = np.array([[4],[5],[6]])\n",
    "w = np.array([4,5,6])\n",
    "print(np.dot(v,w))\n",
    "print(np.dot(w,v))\n",
    "print(v*w)\n",
    "print(w*v)"
   ]
  },
  {
   "cell_type": "code",
   "execution_count": 66,
   "metadata": {},
   "outputs": [
    {
     "data": {
      "text/plain": [
       "59.999999999999986"
      ]
     },
     "execution_count": 66,
     "metadata": {},
     "output_type": "execute_result"
    }
   ],
   "source": [
    "M=np.array([[1,2,3],[4,0,6],[7,8,9]],float)\n",
    "np.linalg.det(M)"
   ]
  },
  {
   "cell_type": "code",
   "execution_count": 67,
   "metadata": {},
   "outputs": [
    {
     "data": {
      "text/plain": [
       "3"
      ]
     },
     "execution_count": 67,
     "metadata": {},
     "output_type": "execute_result"
    }
   ],
   "source": [
    "np.linalg.matrix_rank(M)"
   ]
  },
  {
   "cell_type": "code",
   "execution_count": 74,
   "metadata": {},
   "outputs": [
    {
     "data": {
      "text/plain": [
       "228.50000000000009"
      ]
     },
     "execution_count": 74,
     "metadata": {},
     "output_type": "execute_result"
    }
   ],
   "source": [
    "r1=np.array([[1,5,0],[2,8,7],[7,1.5,3]],float)\n",
    "np.linalg.det(r1)"
   ]
  },
  {
   "cell_type": "code",
   "execution_count": 73,
   "metadata": {},
   "outputs": [
    {
     "data": {
      "text/plain": [
       "1"
      ]
     },
     "execution_count": 73,
     "metadata": {},
     "output_type": "execute_result"
    }
   ],
   "source": [
    "p=np.array([[1,0,0,0],[0,0,0,0],[0,0,0,0]],float)\n",
    "np.linalg.matrix_rank(p)"
   ]
  },
  {
   "cell_type": "markdown",
   "metadata": {},
   "source": [
    "Векторы"
   ]
  },
  {
   "cell_type": "code",
   "execution_count": 78,
   "metadata": {},
   "outputs": [
    {
     "data": {
      "text/plain": [
       "array([ 1., 11., 11., 11., 11.])"
      ]
     },
     "execution_count": 78,
     "metadata": {},
     "output_type": "execute_result"
    }
   ],
   "source": [
    "a = np.array([1,2,3,4,5], float)\n",
    "b = np.array([0,9,8,7,6], float)\n",
    "a + b"
   ]
  },
  {
   "cell_type": "code",
   "execution_count": 79,
   "metadata": {},
   "outputs": [
    {
     "data": {
      "text/plain": [
       "100.0"
      ]
     },
     "execution_count": 79,
     "metadata": {},
     "output_type": "execute_result"
    }
   ],
   "source": [
    "np.dot(a,b)"
   ]
  },
  {
   "cell_type": "code",
   "execution_count": 80,
   "metadata": {},
   "outputs": [
    {
     "data": {
      "text/plain": [
       "100.0"
      ]
     },
     "execution_count": 80,
     "metadata": {},
     "output_type": "execute_result"
    }
   ],
   "source": [
    "# скалярное произведение\n",
    "np.inner(a,b)"
   ]
  },
  {
   "cell_type": "code",
   "execution_count": 82,
   "metadata": {},
   "outputs": [
    {
     "data": {
      "text/plain": [
       "array([[ 0.,  9.,  8.,  7.,  6.],\n",
       "       [ 0., 18., 16., 14., 12.],\n",
       "       [ 0., 27., 24., 21., 18.],\n",
       "       [ 0., 36., 32., 28., 24.],\n",
       "       [ 0., 45., 40., 35., 30.]])"
      ]
     },
     "execution_count": 82,
     "metadata": {},
     "output_type": "execute_result"
    }
   ],
   "source": [
    "# векторное произведение\n",
    "np.outer(a.T,b)"
   ]
  },
  {
   "cell_type": "code",
   "execution_count": 98,
   "metadata": {},
   "outputs": [
    {
     "data": {
      "image/png": "[encoded data removed]",
      "text/plain": [
       "<Figure size 432x288 with 1 Axes>"
      ]
     },
     "metadata": {
      "needs_background": "light"
     },
     "output_type": "display_data"
    }
   ],
   "source": [
    "# визуализация\n",
    "a = np.array([3,5])\n",
    "x,y=a[0],a[1]\n",
    "plt.quiver(x,y,angles=\"xy\", scale_units=\"xy\",scale=1)\n",
    "\n",
    "plt.grid(True)\n",
    "plt.xlim(-5,5)\n",
    "plt.ylim(-5,5)\n",
    "plt.show()"
   ]
  },
  {
   "cell_type": "code",
   "execution_count": 99,
   "metadata": {},
   "outputs": [
    {
     "data": {
      "text/plain": [
       "5.830951894845301"
      ]
     },
     "execution_count": 99,
     "metadata": {},
     "output_type": "execute_result"
    }
   ],
   "source": [
    "# длина вектора\n",
    "np.linalg.norm(a)"
   ]
  },
  {
   "cell_type": "code",
   "execution_count": 102,
   "metadata": {},
   "outputs": [
    {
     "data": {
      "image/png": "[encoded data removed]",
      "text/plain": [
       "<Figure size 432x288 with 1 Axes>"
      ]
     },
     "metadata": {
      "needs_background": "light"
     },
     "output_type": "display_data"
    }
   ],
   "source": [
    "X,Y = np.array([0,0,0]),np.array([0,0,0])\n",
    "U,V = np.array([5,3,3]),np.array([4,2,0])\n",
    "plt.quiver(X,Y,U,V,angles=\"xy\", scale_units=\"xy\",scale=1)\n",
    "\n",
    "plt.grid(True)\n",
    "plt.xlim(-5,5)\n",
    "plt.ylim(-5,5)\n",
    "plt.show()"
   ]
  },
  {
   "cell_type": "code",
   "execution_count": 113,
   "metadata": {},
   "outputs": [
    {
     "data": {
      "image/png": "[encoded data removed]",
      "text/plain": [
       "<Figure size 432x288 with 1 Axes>"
      ]
     },
     "metadata": {
      "needs_background": "light"
     },
     "output_type": "display_data"
    }
   ],
   "source": [
    "a = np.array([1,5])\n",
    "b = np.array([2,8])\n",
    "\n",
    "X,Y = np.array([0,0]),np.array([0,0])\n",
    "U,V = np.array([a[0],b[0]]),np.array([a[1],b[1]])\n",
    "plt.quiver(X,Y,U,V,angles=\"xy\", scale_units=\"xy\",scale=1)\n",
    "\n",
    "plt.grid(True)\n",
    "plt.xlim(-1,5)\n",
    "plt.ylim(-1,5)\n",
    "plt.show()"
   ]
  },
  {
   "cell_type": "code",
   "execution_count": 114,
   "metadata": {},
   "outputs": [
    {
     "data": {
      "text/plain": [
       "0.9988681377244377"
      ]
     },
     "execution_count": 114,
     "metadata": {},
     "output_type": "execute_result"
    }
   ],
   "source": [
    "s = np.inner(a,b)\n",
    "s/(np.linalg.norm(a)*np.linalg.norm(b))"
   ]
  },
  {
   "cell_type": "code",
   "execution_count": 116,
   "metadata": {},
   "outputs": [
    {
     "data": {
      "text/plain": [
       "42"
      ]
     },
     "execution_count": 116,
     "metadata": {},
     "output_type": "execute_result"
    }
   ],
   "source": [
    "s = np.inner(a,b)\n",
    "s"
   ]
  }
 ],
 "metadata": {
  "kernelspec": {
   "display_name": "Python 3",
   "language": "python",
   "name": "python3"
  },
  "language_info": {
   "codemirror_mode": {
    "name": "ipython",
    "version": 3
   },
   "file_extension": ".py",
   "mimetype": "text/x-python",
   "name": "python",
   "nbconvert_exporter": "python",
   "pygments_lexer": "ipython3",
   "version": "3.7.3"
  }
 },
 "nbformat": 4,
 "nbformat_minor": 2
}
